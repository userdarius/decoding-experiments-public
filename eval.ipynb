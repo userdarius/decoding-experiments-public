{
 "cells": [
  {
   "cell_type": "code",
   "execution_count": null,
   "metadata": {},
   "outputs": [],
   "source": [
    "import matplotlib.pyplot as plt \n",
    "import numpy as np \n",
    "import pickle\n",
    "import os\n",
    "\n",
    "def read_pkl(path:str):\n",
    "    with open(path, \"rb\") as trg:\n",
    "        results = pickle.load(trg)\n",
    "    return results\n",
    "\n",
    "\n",
    "def is_base(path):\n",
    "    return (\"base\" in path)\n",
    "\n",
    "\n",
    "def get_scores(task, path):\n",
    "    tgt_model = path.split(\"TGT\")[-1].split(\"-\")[2][:-1]\n",
    "    if is_base(path):\n",
    "        dft_model = None\n",
    "    else:\n",
    "        dft_model = path.split(\"DFT\")[-1].split(\"-\")[2][:-1]\n",
    "    quantize = (\"full\" in path)\n",
    "    rst = read_pkl(path)\n",
    "    accuracies = rst[\"accuracies\"]\n",
    "    sem_entropy = rst[\"entropies\"][\"semantic_entropy\"]\n",
    "    reg_entropy = rst[\"entropies\"][\"regular_entropy\"]\n",
    "    pture_scores = rst[\"p_trues\"]\n",
    "    return {\n",
    "            \"task\": task,\n",
    "            \"target_model\": tgt_model,\n",
    "            \"draft_model\": dft_model,\n",
    "            \"quantize\": quantize,\n",
    "            \"accuracies\": accuracies,\n",
    "            \"semantic_entropies\": sem_entropy,\n",
    "            \"regular_entropies\": reg_entropy,\n",
    "            \"pture_scores\": pture_scores\n",
    "        }\n",
    "    \n"
   ]
  },
  {
   "cell_type": "code",
   "execution_count": 6,
   "metadata": {},
   "outputs": [
    {
     "name": "stderr",
     "output_type": "stream",
     "text": [
      "100%|██████████| 7/7 [00:08<00:00,  1.20s/it]\n"
     ]
    }
   ],
   "source": [
    "from tqdm import tqdm\n",
    "RST_DIR = \"/scratch/homes/sfan/uncertainty/EE724/results\"\n",
    "\n",
    "all_results = {}\n",
    "for task in tqdm(os.listdir(RST_DIR)):\n",
    "    # print(task)\n",
    "    task_dir = os.path.join(RST_DIR, task)\n",
    "    for subpath in os.listdir(task_dir):\n",
    "        path = os.path.join(task_dir, subpath)\n",
    "        rst_dict = get_scores(task, path)\n",
    "        all_results[f\"{task}-{subpath.split(\".\")[0]}\"] = rst_dict   \n",
    "         \n",
    "    "
   ]
  },
  {
   "cell_type": "code",
   "execution_count": 8,
   "metadata": {},
   "outputs": [],
   "source": [
    "with open(f\"{RST_DIR}/all_results.pkl\", \"wb\") as trg:\n",
    "    pickle.dump(all_results, trg)"
   ]
  },
  {
   "cell_type": "code",
   "execution_count": 3,
   "metadata": {},
   "outputs": [],
   "source": [
    "rst = read_pkl(\"/scratch/homes/sfan/uncertainty/EE724/results/nq/results_base_TGT[Llama-3.1-8B]-nq.pkl\")"
   ]
  },
  {
   "cell_type": "code",
   "execution_count": 4,
   "metadata": {},
   "outputs": [
    {
     "data": {
      "text/plain": [
       "dict_keys(['accuracies', 'generations', 'results_dict', 'p_trues', 'entropies'])"
      ]
     },
     "execution_count": 4,
     "metadata": {},
     "output_type": "execute_result"
    }
   ],
   "source": [
    "rst.keys()"
   ]
  },
  {
   "cell_type": "code",
   "execution_count": 11,
   "metadata": {},
   "outputs": [
    {
     "data": {
      "text/plain": [
       "1.2287868572149296"
      ]
     },
     "execution_count": 11,
     "metadata": {},
     "output_type": "execute_result"
    }
   ],
   "source": [
    "np.mean(rst[\"entropies\"][\"semantic_entropy\"])\n",
    "# len(rst[\"entropies\"])"
   ]
  },
  {
   "cell_type": "code",
   "execution_count": 10,
   "metadata": {},
   "outputs": [
    {
     "data": {
      "text/plain": [
       "dict_keys(['context_entails_response', 'cluster_assignment_entropy', 'regular_entropy', 'semantic_entropy'])"
      ]
     },
     "execution_count": 10,
     "metadata": {},
     "output_type": "execute_result"
    }
   ],
   "source": [
    "rst[\"entropies\"].keys()"
   ]
  },
  {
   "cell_type": "code",
   "execution_count": null,
   "metadata": {},
   "outputs": [],
   "source": [
    "results_dict = {\n",
    "    \"target_model\": \"1B\",\n",
    "    \"draft_model\": \"3B\",\n",
    "    \"quantize\": False,\n",
    "    \"time\":\n",
    "}"
   ]
  },
  {
   "cell_type": "code",
   "execution_count": null,
   "metadata": {},
   "outputs": [],
   "source": []
  }
 ],
 "metadata": {
  "kernelspec": {
   "display_name": "Python 3.9.6 64-bit",
   "language": "python",
   "name": "python3"
  },
  "language_info": {
   "codemirror_mode": {
    "name": "ipython",
    "version": 3
   },
   "file_extension": ".py",
   "mimetype": "text/x-python",
   "name": "python",
   "nbconvert_exporter": "python",
   "pygments_lexer": "ipython3",
   "version": "3.8.10"
  },
  "orig_nbformat": 4,
  "vscode": {
   "interpreter": {
    "hash": "31f2aee4e71d21fbe5cf8b01ff0e069b9275f58929596ceb00d14d90e3e16cd6"
   }
  }
 },
 "nbformat": 4,
 "nbformat_minor": 2
}
